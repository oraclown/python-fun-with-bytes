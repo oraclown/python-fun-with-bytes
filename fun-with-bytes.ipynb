{
 "cells": [
  {
   "cell_type": "markdown",
   "metadata": {},
   "source": [
    "Bytes are writen as strings with a \"b\" in front of them.\n",
    "\n",
    "They can be either be written as hex literals or the associated ASCIIvalues\n",
    "\n",
    "See here: https://www.rapidtables.com/convert/number/hex-to-ascii.html"
   ]
  },
  {
   "cell_type": "code",
   "execution_count": null,
   "metadata": {},
   "outputs": [],
   "source": []
  },
  {
   "cell_type": "code",
   "execution_count": 13,
   "metadata": {},
   "outputs": [
    {
     "name": "stdout",
     "output_type": "stream",
     "text": [
      "True\n",
      "b'10'\n",
      "b'10'\n"
     ]
    }
   ],
   "source": [
    "hex_literal = b\"\\x31\\x30\"\n",
    "other_byte_literal = b\"10\"\n",
    "\n",
    "print(hex_literal == other_byte_literal)\n",
    "print(hex_literal)\n",
    "print(other_byte_literal)"
   ]
  },
  {
   "cell_type": "code",
   "execution_count": 12,
   "metadata": {},
   "outputs": [
    {
     "name": "stdout",
     "output_type": "stream",
     "text": [
      "49\n",
      "291\n",
      "8961\n"
     ]
    }
   ],
   "source": [
    "# numbers to and from bytes\n",
    "\n",
    "# numbers aren't interpreted as their ASCII values - they're interpreted as\n",
    "# their actual decimal value\n",
    "\n",
    "small_byte_number = b\"\\x31\"\n",
    "\n",
    "# you need specify the endienness of the bytes - big endien is largest byte\n",
    "# on the left, little endien is largest byte on the right\n",
    "# see here: https://www.digital-detective.net/understanding-big-and-little-endian-byte-order/\n",
    "# 0x31 == (3*16^1) + (1*16^0) == 49\n",
    "print(int.from_bytes(small_byte_number, \"big\"))\n",
    "\n",
    "bigger_byte_number = b\"\\x01\\x23\"\n",
    "\n",
    "# 0x0123 = (0*16^3)+(1*16^2)+(2*16^1)+(3*16^0) in big endian\n",
    "print(int.from_bytes(bigger_byte_number, \"big\"))\n",
    "\n",
    "# 0x0123 = (0*16^1)+(1*16^0)+(2*16^3)+(3*16^2) in big endian\n",
    "print(int.from_bytes(bigger_byte_number, \"little\"))\n"
   ]
  },
  {
   "cell_type": "markdown",
   "metadata": {},
   "source": [
    "`to_bytes` works in a similar manner to `from_bytes`.\n",
    "\n",
    "You specify the int that you want to convert, the number of bytes you want to represent it, and its endianness."
   ]
  },
  {
   "cell_type": "code",
   "execution_count": 49,
   "metadata": {},
   "outputs": [
    {
     "name": "stdout",
     "output_type": "stream",
     "text": [
      "b'\\x00\\x00\\x00\\x00\\x04\\x00'\n"
     ]
    }
   ],
   "source": [
    "# Representing 1024 using 6 bytes\n",
    "val = int.to_bytes(1024, 6, \"big\")\n",
    "print(val)\n"
   ]
  },
  {
   "cell_type": "markdown",
   "metadata": {},
   "source": [
    "Quick note - data representation.\n",
    "\n",
    "We covered above the certain values translate to ACII characters. The hex value `0x32` which is equal to `50` in decimal (`3*16^1 + 2*16^0`) translates to the ASCII character `2`. \n",
    "\n",
    "Below you'll see the int `50` converted to `b\"\\x002\"`, which is strange, since the hex value that is equivalent to the decimal value `50` is `0x32`.\n",
    "\n",
    "This is just shorthand. If you see two number preceded by `\\x` then it is a hex literal. If you see a number or letter that doesn't belong to a hex pair `\\xNN` then it is the ASCII representation of the byte. Don't let this confuse you. We can see below that they're the same thing."
   ]
  },
  {
   "cell_type": "code",
   "execution_count": 48,
   "metadata": {},
   "outputs": [
    {
     "name": "stdout",
     "output_type": "stream",
     "text": [
      "b'\\x002'\n",
      "50\n",
      "True\n"
     ]
    }
   ],
   "source": [
    "v = int.to_bytes(50, 2, \"big\")\n",
    "print(v)\n",
    "\n",
    "z = int.from_bytes(b\"\\x00\\x32\", \"big\")\n",
    "print(z)\n",
    "\n",
    "print(b\"\\x002\" == b\"\\x00\\x32\")"
   ]
  },
  {
   "cell_type": "code",
   "execution_count": 36,
   "metadata": {},
   "outputs": [
    {
     "name": "stdout",
     "output_type": "stream",
     "text": [
      "307\n",
      "259\n"
     ]
    }
   ],
   "source": []
  },
  {
   "cell_type": "code",
   "execution_count": 45,
   "metadata": {},
   "outputs": [
    {
     "data": {
      "text/plain": [
       "True"
      ]
     },
     "execution_count": 45,
     "metadata": {},
     "output_type": "execute_result"
    }
   ],
   "source": []
  },
  {
   "cell_type": "code",
   "execution_count": null,
   "metadata": {},
   "outputs": [],
   "source": [
    "# Unpacking bytes\n",
    "# See here: https://www.delftstack.com/howto/python/how-to-convert-bytes-to-integers/\n"
   ]
  }
 ],
 "metadata": {
  "interpreter": {
   "hash": "aee8b7b246df8f9039afb4144a1f6fd8d2ca17a180786b69acc140d282b71a49"
  },
  "kernelspec": {
   "display_name": "Python 3.9.9 64-bit",
   "language": "python",
   "name": "python3"
  },
  "language_info": {
   "codemirror_mode": {
    "name": "ipython",
    "version": 3
   },
   "file_extension": ".py",
   "mimetype": "text/x-python",
   "name": "python",
   "nbconvert_exporter": "python",
   "pygments_lexer": "ipython3",
   "version": "3.9.9"
  },
  "orig_nbformat": 4
 },
 "nbformat": 4,
 "nbformat_minor": 2
}
